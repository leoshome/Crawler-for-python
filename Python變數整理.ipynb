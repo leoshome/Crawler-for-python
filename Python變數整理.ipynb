{
 "metadata": {
  "name": "",
  "signature": "sha256:6822534fc5e0910f2485cc3a993a27227e2f8516739c22c4f785a03264b5a29b"
 },
 "nbformat": 3,
 "nbformat_minor": 0,
 "worksheets": [
  {
   "cells": [
    {
     "cell_type": "code",
     "collapsed": false,
     "input": [
      "class Test(object):\n",
      "    '''number\u70ba\u985e\u5225\u8b8a\u91cf(\u975c\u614b\u8b8a\u91cf)\u3002\u53ef\u4ee5\u7528Test.number  self.number\u8abf\u7528\n",
      "       Python\u7684\u985e\u5225\u8b8a\u91cf\u548cJava\u7684\u975c\u614b\u8b8a\u91cf(\u985e\u5225\u8b8a\u91cf)\u76f8\u540c\uff0c\u7686\u53ef\u4ee5\u985e\u548c\u5c0d\u8c61\u52a0.\u4f86\u8abf\u7528\u3002\n",
      "       self.num1\u3001 self.num2\u5728\u65b9\u6cd5\u5167\u5b9a\u7fa9\uff0c\u6240\u4ee5\u70ba\u5be6\u4f8b\u8b8a\u91cf(\u6210\u54e1\u8b8a\u91cf)'''\n",
      "#------------------------------------------------------------------------------------#\n",
      "    \u985e\u5225\u8b8a\u91cf = []\n",
      "    #self.\u5be6\u4f8b\u8b8a\u91cf\u932f\u8aa4\u7528\u6cd5 = \"yes123\" note:\u5be6\u4f8b\u8b8a\u91cf\u53ea\u80fd\u5728\u65b9\u6cd5\u4e2d\u5b9a\u7fa9\uff0c\u4e0d\u80fd\u5728\u65b9\u6cd5\u5916\u5b9a\u7fa9\u3002\u5728\u65b9\u6cd5\u5916\u5b9a\u7fa9\u7684\u7a31\u70ba:\u985e\u5225\u8b8a\u91cf***\n",
      "    def __init__(self):\n",
      "        self.\u5be6\u4f8b\u8b8a\u91cf = []\n",
      "        \u5340\u57df\u8b8a\u91cf = 3\n",
      "        \n",
      "        #print('\u985e\u5225\u8b8a\u91cf: ', self.\u985e\u5225\u8b8a\u91cf)\n",
      "        #print('\u985e\u5225\u8b8a\u91cf: ',Test.\u985e\u5225\u8b8a\u91cf)\n",
      "        #print('\u5be6\u4f8b\u8b8a\u91cf: ',self.\u5be6\u4f8b\u8b8a\u91cf)\n",
      "        #print('\u5340\u57df\u8b8a\u91cf: ',\u5340\u57df\u8b8a\u91cf)\n",
      "        \n",
      "    def print(self):\n",
      "        Test.\u985e\u5225\u8b8a\u91cf = 4\n",
      "        self.\u5be6\u4f8b\u8b8a\u91cf = 5\n",
      "        \n",
      "        print('\u985e\u5225\u8b8a\u91cf: ', self.\u985e\u5225\u8b8a\u91cf)\n",
      "        print('\u985e\u5225\u8b8a\u91cf: ',Test.\u985e\u5225\u8b8a\u91cf)\n",
      "        print('\u5be6\u4f8b\u8b8a\u91cf: ',self.\u5be6\u4f8b\u8b8a\u91cf)\n",
      "        \n",
      "        try:\n",
      "            print('\u5340\u57df\u8b8a\u91cf: ',\u5340\u57df\u8b8a\u91cf)\n",
      "        except:\n",
      "            print('***\u5340\u57df\u8b8a\u91cf\u4e0d\u80fd\u5728\u4e0d\u540c\u65b9\u6cd5\u8ce6\u503c***')\n",
      "            \n",
      "test1 = Test()\n",
      "test2 = Test()\n",
      "#test1.\u985e\u5225\u8b8a\u91cf.append('kkkkkk')\n",
      "test1.\u5be6\u4f8b\u8b8a\u91cf = 445\n",
      "\n",
      "#print(id(test1.\u985e\u5225\u8b8a\u91cf),id(test2.\u985e\u5225\u8b8a\u91cf))\n",
      "\n",
      "print(id(test1.\u5be6\u4f8b\u8b8a\u91cf), id(test2.\u5be6\u4f8b\u8b8a\u91cf))\n"
     ],
     "language": "python",
     "metadata": {},
     "outputs": [
      {
       "output_type": "stream",
       "stream": "stdout",
       "text": [
        "4528083408 4527844296\n"
       ]
      }
     ],
     "prompt_number": 199
    },
    {
     "cell_type": "code",
     "collapsed": false,
     "input": [],
     "language": "python",
     "metadata": {},
     "outputs": [],
     "prompt_number": 180
    },
    {
     "cell_type": "code",
     "collapsed": false,
     "input": [],
     "language": "python",
     "metadata": {},
     "outputs": []
    }
   ],
   "metadata": {}
  }
 ]
}