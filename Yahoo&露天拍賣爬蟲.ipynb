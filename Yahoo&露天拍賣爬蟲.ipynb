{
 "metadata": {
  "name": "",
  "signature": "sha256:626dc5f4b326acc6f69be9e8b8911c7a572c7165a6f34ce1d11acb73f78d1359"
 },
 "nbformat": 3,
 "nbformat_minor": 0,
 "worksheets": [
  {
   "cells": [
    {
     "cell_type": "code",
     "collapsed": false,
     "input": [
      "import requests\n",
      "from bs4 import BeautifulSoup\n",
      "import pandas as pd"
     ],
     "language": "python",
     "metadata": {},
     "outputs": [],
     "prompt_number": 17
    },
    {
     "cell_type": "markdown",
     "metadata": {},
     "source": [
      "#Yahoo\u62cd\u8ce3\u7db2\u722cMacbook\u50f9\u683c\u3001\u7522\u54c1"
     ]
    },
    {
     "cell_type": "code",
     "collapsed": false,
     "input": [
      "def converInt(raw):\n",
      "    strLst = raw.split(',')\n",
      "    return int(''.join(strLst))\n",
      "\n",
      "num = 0\n",
      "priceLst = []\n",
      "noWords = ['\u4fdd\u8b77\u6bbc', '\u5305' , '\u78bc', '\u4e2d\u83ef', '\u96fb\u6e90', '\u8cbc', '\u827e', '\u683c', '\u5957', '\u8272', '\u8b8a\u58d3', '\u819c', '\u9580\u865f', '4G']\n",
      "for page in range(1, 40):\n",
      "    num += 48\n",
      "    url = 'https://tw.search.bid.yahoo.com/search/auction/product;_ylt=AllKtQPlh2Y6yAqtLiIOIe9yFbN8;_ylv=3?p=macbok+pro&qt=product&cid=0&clv=0&property=auction&sub_property=auction&srch=product&act=srp&pg='+str(page)+'&poffset=38&aoffset='+str(num)\n",
      "    res = requests.get(url)\n",
      "    soup = BeautifulSoup(res.text)\n",
      "    page = soup.select('.srp-pdcontent')\n",
      "    for line in page:\n",
      "        for word in noWords:\n",
      "            if word in line.select('a.ellipsis')[0].text or converInt(line.select('em')[0].text)<=20000 or converInt(line.select('em')[0].text)>=34000:\n",
      "                break\n",
      "        else:\n",
      "            print('get it')\n",
      "            priceLst.append((converInt(line.select('em')[0].text), line.select('a.ellipsis')[0].text ))\n",
      "\n",
      "sorted(priceLst)\n",
      "%time"
     ],
     "language": "python",
     "metadata": {},
     "outputs": [
      {
       "output_type": "stream",
       "stream": "stdout",
       "text": [
        "get it\n",
        "get it"
       ]
      },
      {
       "output_type": "stream",
       "stream": "stdout",
       "text": [
        "\n",
        "get it"
       ]
      },
      {
       "output_type": "stream",
       "stream": "stdout",
       "text": [
        "\n",
        "get it"
       ]
      },
      {
       "output_type": "stream",
       "stream": "stdout",
       "text": [
        "\n",
        "get it"
       ]
      },
      {
       "output_type": "stream",
       "stream": "stdout",
       "text": [
        "\n",
        "get it"
       ]
      },
      {
       "output_type": "stream",
       "stream": "stdout",
       "text": [
        "\n",
        "get it"
       ]
      },
      {
       "output_type": "stream",
       "stream": "stdout",
       "text": [
        "\n",
        "get it\n",
        "get it\n",
        "get it\n",
        "get it\n",
        "get it"
       ]
      },
      {
       "output_type": "stream",
       "stream": "stdout",
       "text": [
        "\n",
        "get it"
       ]
      },
      {
       "output_type": "stream",
       "stream": "stdout",
       "text": [
        "\n",
        "get it\n",
        "get it\n",
        "get it\n",
        "get it\n",
        "get it"
       ]
      },
      {
       "output_type": "stream",
       "stream": "stdout",
       "text": [
        "\n",
        "get it"
       ]
      },
      {
       "output_type": "stream",
       "stream": "stdout",
       "text": [
        "\n",
        "get it\n",
        "get it"
       ]
      },
      {
       "output_type": "stream",
       "stream": "stdout",
       "text": [
        "\n",
        "get it"
       ]
      },
      {
       "output_type": "stream",
       "stream": "stdout",
       "text": [
        "\n",
        "get it\n",
        "get it\n",
        "get it"
       ]
      },
      {
       "output_type": "stream",
       "stream": "stdout",
       "text": [
        "\n",
        "get it\n",
        "get it"
       ]
      },
      {
       "output_type": "stream",
       "stream": "stdout",
       "text": [
        "\n",
        "get it"
       ]
      },
      {
       "output_type": "stream",
       "stream": "stdout",
       "text": [
        "\n",
        "get it"
       ]
      },
      {
       "output_type": "stream",
       "stream": "stdout",
       "text": [
        "\n",
        "get it\n",
        "get it"
       ]
      },
      {
       "output_type": "stream",
       "stream": "stdout",
       "text": [
        "\n",
        "get it\n",
        "get it"
       ]
      },
      {
       "output_type": "stream",
       "stream": "stdout",
       "text": [
        "\n",
        "get it\n",
        "get it\n",
        "get it"
       ]
      },
      {
       "output_type": "stream",
       "stream": "stdout",
       "text": [
        "\n",
        "get it"
       ]
      },
      {
       "output_type": "stream",
       "stream": "stdout",
       "text": [
        "\n",
        "get it"
       ]
      },
      {
       "output_type": "stream",
       "stream": "stdout",
       "text": [
        "\n",
        "get it"
       ]
      },
      {
       "output_type": "stream",
       "stream": "stdout",
       "text": [
        "\n",
        "CPU times: user 2 \u00b5s, sys: 0 ns, total: 2 \u00b5s\n",
        "Wall time: 6.91 \u00b5s\n"
       ]
      }
     ],
     "prompt_number": 16
    },
    {
     "cell_type": "code",
     "collapsed": false,
     "input": [
      "priceLst"
     ],
     "language": "python",
     "metadata": {},
     "outputs": [
      {
       "metadata": {},
       "output_type": "pyout",
       "prompt_number": 18,
       "text": [
        "[(29999, '\u964d\u50f9\u6c42\u73fe 29999 macbook pro 17 \u540b \u975eRetina \u4e5d\u6210\u65b0 \u8aa0\u53ef\u8b70'),\n",
        " (23000, '\u3010\u7d10\u7d043C\u3011 Apple MacBook Pro 15\u540b i5 2.4 8G 320GB  # 0130'),\n",
        " (21000, 'Macbook Pro 13\u540b'),\n",
        " (20500, '2011  Apple MacBook Pro 13\u540b 8G DDR3 \u4e8c\u624b\u7f8e\u54c1 \u6b61\u8fce\u9762\u4ea4Intel i5 2.3GHz'),\n",
        " (32000, '\u964d\u50f9\u6c42\u552e Macbook Pro Retina 13 / 20141215\u8cfc\u5165 / 9\u6210\u65b0 8G 128G SSD'),\n",
        " (32000, '@\u6d77\u8ecd\u5c0f\u7ad9@Macbook Pro Retina 13 / 20141215\u8cfc\u5165 / 9\u6210\u65b0 / 8G 128G SSD'),\n",
        " (30000, '\u4fdd\u5167 MacBook Pro 15\u540b i7 16G 256SSD \u9802\u898f \u7368\u7acb\u986f\u793a\u5361 Apple \u860b\u679c\u96fb\u8166 \u5206\u671f0\u5229\u7387'),\n",
        " (30000, '\u4fdd\u56fa\u4e2d MacBook Pro 15\u540b i7 16G 256SSD \u9802\u898f \u7368\u7acb\u986f\u793a\u5361 Apple \u860b\u679c\u96fb\u8166 \u5206\u671f0\u5229\u7387'),\n",
        " (30000, '\u6709\u4fdd\u56fa MacBook Pro 15\u540b i7 16G 256SSD \u9802\u898f \u7368\u7acb\u986f\u793a\u5361 Apple \u860b\u679c\u96fb\u8166 \u5206\u671f0\u5229\u7387'),\n",
        " (30000, '\u9001Magic mouse 2013 late MacBook Pro 13 Retina I5 2.4g/4g/128g'),\n",
        " (30000, '\u8ce3 2011 late Macbook pro 15\u540b i7 2.0G/8G/180G ssd   \u96d9\u7cfb\u7d71\u5916\u89c0\u6975\u65b0 \u7368\u986f'),\n",
        " (26888, '\u860b\u679c APPLE Macbook Pro/i5 \u56db\u6838/13.3\u540b/\u7b46\u8a18\u578b\u96fb\u8166 8GB\u8a18\u61b6\u9ad4 9\u6210\u65b0 \u6436\u50f9$26888'),\n",
        " (32000, '\u3010\u6bdb\u6bdb\u306e\uc804\ud654 \uc258\u3011MacBook Pro 13 \u540b\uff1a2.5 GHz   \u5e7e\u4e4e\u5168\u65b0'),\n",
        " (22000, 'MacBook pro 15\u540b \u4fdd\u5b58\u826f\u597d'),\n",
        " (23000, 'Apple Macbook Pro 13\u540b i5(2.5) 16G 500GB USB3.0  \u522e\u50b7 \u860b\u679c\u7b46\u96fb \u860b\u679c\u7b46\u96fb'),\n",
        " (23000, 'Apple Macbook Pro 13\u540b i5(2.5) 16G 500GB USB3.0  \u6709\u522e\u50b7 \u860b\u679c \u860b\u679c\u7b46\u96fb'),\n",
        " (23000, 'Apple Macbook Pro 13\u540b i5(2.5) 16G 500GB USB3.0  \u6709\u6709\u522e\u50b7 \u860b\u679c \u860b\u679c\u7b46\u96fb'),\n",
        " (33900, 'Apple MacBook Pro Retina 13&quot;  ME864TA/A'),\n",
        " (31000, 'Apple\u7b46\u96fb MacBook Pro 15\u540b \u9001\u56fa\u614b\u5f0f\u786c\u789f window7\u6b63\u7248\u5149\u789f'),\n",
        " (23000, '\u4e8c\u624b13&quot; MacBook Pro mid-2012'),\n",
        " (26500, 'c/p\u503c\u8d85\u9ad89\u6210\u65b0 2012\u5e74\u4e2d Macbook pro i5 2.5g 16g ram 120g ssd+500 HD'),\n",
        " (24500, 'MacBook Pro 2011 (\u5e74\u5c3e\uff09OS X Yosemite 13\u5bf8 2.4ghz 16GB\u8a18\u61b6\u9ad4 500G\u786c\u789f'),\n",
        " (25000, '\u8d85\u503c\u4fee\u5716\u6a5f 2011 MacBook Pro 13 I5 2.3Ghz 16G RAM 128G SSD+320G HD'),\n",
        " (27500, '\u8d85\u65b0ASUS Zenbook UX305 5y71\u9802\u898f\u7248 macbook pro air \u53ef\u53c3\u8003'),\n",
        " (24000, 'Macbook pro 17\u540b \u65e5\u6587 \u9727\u9762 macbook retina macbook air imac ipad'),\n",
        " (23000, '\u3010\u54c1\u5149\u6578\u4f4d\u3011Apple MacBook Pro i7 2.2G/15\u540b/8G/500G/HD6750 #44477'),\n",
        " (23800, '\u3010\u8490\u6a5f\u738b3C\u9928\u3011Apple Macbook Pro i7 2.2GHz 15.4\u540b\u3010\u76f4\u8cfc\u50f923800\u5143\u3011A8193-8'),\n",
        " (23000, '\u5168\u6a5f\u5982\u65b0 2011 Macbook pro 13 i5 2.3g Hz/8g/256g SSD'),\n",
        " (29500, '\u3010\u512a\u52e23C\u3011Apple MacBook Pro Retina 13.3\u540b i5 2.6GHz 8G 240G SSD'),\n",
        " (24500,\n",
        "  '\u300c\u9ede\u5b503C\u300d\u3010\u5e97\u4fdd1\u500b\u6708\u3011\u9ede\u6211\u6298200 \u860b\u679c MacBook Pro 13.3\u540b\u7b46\u96fb Core i7 2.7GHz 8G 500GB V373'),\n",
        " (26500, '2011\u5e74\u672b MacBook Pro 15\u540b i7-2.2MHz \u7368\u986f\u5f37\u608d\u6a5f\u7a2e'),\n",
        " (25000, 'Apple MacBook Pro 13\u540b i5 2.5 8G 500GB hd4000   #0513'),\n",
        " (22000, 'MacBook Pro 13\u540b 256GB SSD 8GB \u8a18\u61b6\u9ad4'),\n",
        " (30000, '\u9ad8\u968e\u7368\u986f1G \u8a18\u61b6\u9ad4 16G 2011 Macbook pro 15 [i7 2.0 16g ram 180G SSD]'),\n",
        " (24900, 'Apple MacBook Pro MD101TA/A 13.3/I5/8GB/1TB(\u76d2\u88dd/\u516c\u53f8\u8ca8)*(ED016)'),\n",
        " (26500, 'MacBook Pro (Retina, 13-inch, Late 2012)'),\n",
        " (25800, 'Macbook Pro 17 \u540b\u9727\u97621920x1200\u87a2\u5e55T9600 2.8GHz/RAM:8G DDR3/\uff33\uff33\uff24\u96d9\u786c\u789f'),\n",
        " (24000, '\u51fa\u552e Apple MacBook Pro 13.3&quot; (\u516c\u53f8\u8ca8,9\u6210\u65b0,\u76d2\u88dd\u5b8c\u6574,\u88fd\u9020\u5e74\u4efd:2012\u5e74\u4e2d\u671f)'),\n",
        " (23400, 'MacBook Pro 13\u540b(2011 late)\u9644\u76d2,\u767c\u7968\u5df2\u5347\u7d1a\u81f38Gram')]"
       ]
      }
     ],
     "prompt_number": 18
    },
    {
     "cell_type": "code",
     "collapsed": false,
     "input": [],
     "language": "python",
     "metadata": {},
     "outputs": []
    }
   ],
   "metadata": {}
  }
 ]
}