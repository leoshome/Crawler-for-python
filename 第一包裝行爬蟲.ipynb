{
 "metadata": {
  "name": "",
  "signature": "sha256:4381020fc2166d6019b49fecfcae3a798e89d64654dc7b4e7f91221b3532cb74"
 },
 "nbformat": 3,
 "nbformat_minor": 0,
 "worksheets": [
  {
   "cells": [
    {
     "cell_type": "code",
     "collapsed": false,
     "input": [
      "from bs4 import BeautifulSoup\n",
      "import requests\n",
      "import pandas as pd\n",
      "improt teim"
     ],
     "language": "python",
     "metadata": {},
     "outputs": []
    },
    {
     "cell_type": "code",
     "collapsed": false,
     "input": [
      "nums = 0\n",
      "productDic = {}\n",
      "for num in range(1,20):\n",
      "    url = 'http://www.firstpackage.com.tw/product.php?jumppage=' + str(num)\n",
      "    res = requests.get(url)\n",
      "    soup = BeautifulSoup(res.text)\n",
      "    for line in soup.select('td a[href^=product_det]'):\n",
      "        url = 'http://www.firstpackage.com.tw/'+line['href']\n",
      "        res = requests.get(url)\n",
      "        soup = BeautifulSoup(res.text)\n",
      "        print(soup.select('tr td[colspan=2]')[6].text, soup.select('tr span.style02')[1].text)\n",
      "        nums += 1\n",
      "print(nums)\n",
      "\n"
     ],
     "language": "python",
     "metadata": {},
     "outputs": [
      {
       "output_type": "stream",
       "stream": "stdout",
       "text": [
        "A100170 \u4e00\u65a4\u548c\u751f\u76d2-\u5973\u5152\u60c5\n",
        "B12A700"
       ]
      },
      {
       "output_type": "stream",
       "stream": "stdout",
       "text": [
        " \u516d\u89d2\u6fd5\u7cca\u5e74\u83dc\u786c\u76d2\n",
        "G08-001"
       ]
      },
      {
       "output_type": "stream",
       "stream": "stdout",
       "text": [
        " \u4e0d\u7e54\u5e03\u63d0\u888b-\u4f5b\u8df3\u7246(\u771f\u5473\u4eba\u9593)\u7121\u9694\u677f\n",
        "C040870"
       ]
      },
      {
       "output_type": "stream",
       "stream": "stdout",
       "text": [
        " \u4e00\u65a4-\u73cd \u994c\n",
        "C041510"
       ]
      },
      {
       "output_type": "stream",
       "stream": "stdout",
       "text": [
        " \u4e00\u65a4\u534a-\u5409\u7965\n",
        "C041530"
       ]
      },
      {
       "output_type": "stream",
       "stream": "stdout",
       "text": [
        " \u4e00\u65a4\u534a-6\u89d2\u76d2 \u6176\u5718\u5713\n",
        "B16A660"
       ]
      },
      {
       "output_type": "stream",
       "stream": "stdout",
       "text": [
        " 16\"\u6a62\u5713(\u84cb\u76d2\u84cb)\u5bcc\u8cb4\u6eff\u5712\n",
        "B16A66-0"
       ]
      },
      {
       "output_type": "stream",
       "stream": "stdout",
       "text": [
        " 16\"\u6a62\u5713(\u5e73\u9762\u84cb)\u5bcc\u8cb4\u6eff\u5712\n",
        "B12A882"
       ]
      },
      {
       "output_type": "stream",
       "stream": "stdout",
       "text": [
        " 12\n",
        "B13A661"
       ]
      },
      {
       "output_type": "stream",
       "stream": "stdout",
       "text": [
        " 13\"\u5927\u62fc\u76e4(6\u62fc)\u5bcc\u8cb4\u6eff\u5712\n",
        "B13A652"
       ]
      },
      {
       "output_type": "stream",
       "stream": "stdout",
       "text": [
        " 13\"\u6a62\u5713(\u5927\u9b5a\u76e4)\u5bcc\u8cb4\u6eff\u5712\n",
        "B13A660"
       ]
      },
      {
       "output_type": "stream",
       "stream": "stdout",
       "text": [
        " 13\"\u5713\u578b(\u7802\u934b\u76d2)\u5bcc\u8cb4\u6eff\u5712\n",
        "B06A650"
       ]
      },
      {
       "output_type": "stream",
       "stream": "stdout",
       "text": [
        " \u58f9\u54c1\u548c(\u900f\u660e\u84cb)\n",
        "B12A630"
       ]
      },
      {
       "output_type": "stream",
       "stream": "stdout",
       "text": [
        " 5 \u5c64(\u6a62\u5713)-\u5718 \u5713\n",
        "B12A88-5"
       ]
      },
      {
       "output_type": "stream",
       "stream": "stdout",
       "text": [
        " 5 \u5c64(\u6a62\u5713)-\u6176\u5718\u5713\n",
        "C10001"
       ]
      },
      {
       "output_type": "stream",
       "stream": "stdout",
       "text": [
        " \u9d3b \u904b(2000cc)\n",
        "C120870"
       ]
      },
      {
       "output_type": "stream",
       "stream": "stdout",
       "text": [
        " \u73cd \u994c(3000cc)\n",
        "C08A830"
       ]
      },
      {
       "output_type": "stream",
       "stream": "stdout",
       "text": [
        " 8\"\u4f5b\u8df3\u7246-\u6176\u5718\u5713\n",
        "B12A640-0"
       ]
      },
      {
       "output_type": "stream",
       "stream": "stdout",
       "text": [
        " \u4e00\u6876\u4e94\u83dc(\u542b\u84cb) \u9d3b\u798f\u5409\u7965\n",
        "B12A670"
       ]
      },
      {
       "output_type": "stream",
       "stream": "stdout",
       "text": [
        " \u4e00\u6876\u4e94\u83dc(\u542b\u84cb) \u73cd\u994c\n",
        "B12A680"
       ]
      },
      {
       "output_type": "stream",
       "stream": "stdout",
       "text": [
        " \u4e00\u6876\u4e94\u83dc-\u542b\u84cb(\u6176\u5718\u5713)\n",
        "B12A88-0"
       ]
      },
      {
       "output_type": "stream",
       "stream": "stdout",
       "text": [
        " \u4e00\u6876\u4e94\u83dc(\u7121\u84cb)\u516b\u89d2-\u6176\u5718\u5713\n",
        "B10A101"
       ]
      },
      {
       "output_type": "stream",
       "stream": "stdout",
       "text": [
        " \u55ae\u5c64-\u570b\u73cd\u96c5\u97f5(\u7121\u6cd5\u758a\u5c64)\n",
        "B10A10-1"
       ]
      },
      {
       "output_type": "stream",
       "stream": "stdout",
       "text": [
        " \u55ae\u5c64-\u570b\u73cd\u96c5\u97f5(\u53ef\u758a\u5c64\u7a7f\u7e69)\n",
        "B10A102"
       ]
      },
      {
       "output_type": "stream",
       "stream": "stdout",
       "text": [
        " 2\u5c64-\u570b\u73cd\u96c5\u97f5\n",
        "B10A856"
       ]
      },
      {
       "output_type": "stream",
       "stream": "stdout",
       "text": [
        " 10\"\u624b\u63d0\u76d2-\u58f9\u54c1\u548c\n",
        "B10A650"
       ]
      },
      {
       "output_type": "stream",
       "stream": "stdout",
       "text": [
        " 6 \u5c64-\u5409 \u7965\n",
        "B10A630"
       ]
      },
      {
       "output_type": "stream",
       "stream": "stdout",
       "text": [
        " 6 \u5c64-\u5718 \u5713\n",
        "B10A850"
       ]
      },
      {
       "output_type": "stream",
       "stream": "stdout",
       "text": [
        " 6 \u5c64-\u58f9\u54c1\u548c\n",
        "B10A1006"
       ]
      },
      {
       "output_type": "stream",
       "stream": "stdout",
       "text": [
        " 6 \u5c64-\u6176\u5718\u5713\n",
        "B10A66-0"
       ]
      },
      {
       "output_type": "stream",
       "stream": "stdout",
       "text": [
        " 6 \u5c64-\u5bcc\u8cb4\u6eff\u5712\n",
        "B10A853"
       ]
      },
      {
       "output_type": "stream",
       "stream": "stdout",
       "text": [
        " \u4f5b\u8df3\u7246+3\u5c64\u5e74\u83dc-\u58f9\u54c1\u548c\n",
        "G08-002"
       ]
      },
      {
       "output_type": "stream",
       "stream": "stdout",
       "text": [
        " \u4e0d\u7e54\u5e03\u63d0\u888b-\u4f5b\u8df3\u7246(\u771f\u5473\u4eba\u9593)\u542b\u9694\u677f\n",
        "G10-001"
       ]
      },
      {
       "output_type": "stream",
       "stream": "stdout",
       "text": [
        " \u4e0d\u7e54\u5e03\u63d0\u888b \u5713\u5f624~5\u76e4(\u771f\u5473\u4eba\u9593) \n",
        "G10-002"
       ]
      },
      {
       "output_type": "stream",
       "stream": "stdout",
       "text": [
        " \u4e0d\u7e54\u5e03\u63d0\u888b \u5713\u5f625~6\u76e4(\u771f\u5473\u4eba\u9593)\n",
        "G12-001"
       ]
      },
      {
       "output_type": "stream",
       "stream": "stdout",
       "text": [
        " \u4e0d\u7e54\u5e03\u63d0\u888b \u5c0f\u9577\u578b6~7\u76e4(\u6176\u5718\u5713)\n",
        "G12-003"
       ]
      },
      {
       "output_type": "stream",
       "stream": "stdout",
       "text": [
        " \u4e0d\u7e54\u5e03\u63d0\u888b \u5927\u9577\u578b8~10\u76e4(\u6176\u5718\u5713)\n",
        "C05120"
       ]
      },
      {
       "output_type": "stream",
       "stream": "stdout",
       "text": [
        " \u4e09\u65a4-\u58f9\u54c1\u548c\n",
        "B06A800"
       ]
      },
      {
       "output_type": "stream",
       "stream": "stdout",
       "text": [
        " 6\u540b\u99ac\u5361\u6a02\u5712\u5713\u6876\u76d2(\u85cd)\n",
        "B16A690"
       ]
      },
      {
       "output_type": "stream",
       "stream": "stdout",
       "text": [
        " 16\u540b\u516b\u89d2\u624b\u63d0\u5e74\u83dc\u76d2(\u6176\u5718\u5713)\n",
        "B16A670"
       ]
      },
      {
       "output_type": "stream",
       "stream": "stdout",
       "text": [
        " 18\u540b\u516b\u89d2\u624b\u63d0\u5e74\u83dc\u76d2(\u6176\u5718\u5713)\n",
        "B12A840"
       ]
      },
      {
       "output_type": "stream",
       "stream": "stdout",
       "text": [
        " \u4e00\u6876\u516d\u83dc(\u542b\u84cb)\u82b1\u958b\u5bcc\u8cb4\n",
        "C08A850"
       ]
      },
      {
       "output_type": "stream",
       "stream": "stdout",
       "text": [
        " 8\"\u4f5b\u8df3\u7246-\u58f9\u54c1\u548c\n",
        "C130020"
       ]
      },
      {
       "output_type": "stream",
       "stream": "stdout",
       "text": [
        " 5000cc\u96de\u6e6f\u76d2-\u6176\u5718\u5713\n",
        "LE1012E"
       ]
      },
      {
       "output_type": "stream",
       "stream": "stdout",
       "text": [
        " \u5e73\u88dd-\u4eac\u4e4b\u5bb4(10\u5165)\n",
        "LA1216"
       ]
      },
      {
       "output_type": "stream",
       "stream": "stdout",
       "text": [
        " \u5e73\u88dd-\u541b\u5bb4(12\u5165&15\u5165&20\u5165)\n",
        "00018"
       ]
      },
      {
       "output_type": "stream",
       "stream": "stdout",
       "text": [
        " \u6b63\u59276\u4e2d4\u5c0f\n",
        "00015"
       ]
      },
      {
       "output_type": "stream",
       "stream": "stdout",
       "text": [
        " \u9577\u578b18\u7c92\u86cb\u9ec3\u9165\n",
        "00016"
       ]
      },
      {
       "output_type": "stream",
       "stream": "stdout",
       "text": [
        " \u9577\u578b15\u7c92\u86cb\u9ec3\u9165\n",
        "00017"
       ]
      },
      {
       "output_type": "stream",
       "stream": "stdout",
       "text": [
        " \u9577\u578b10\u7c92\u7da0\u8c46\u51f8\n",
        "00009"
       ]
      },
      {
       "output_type": "stream",
       "stream": "stdout",
       "text": [
        " \u5713\u578b8\u7c92\n",
        "00010"
       ]
      },
      {
       "output_type": "stream",
       "stream": "stdout",
       "text": [
        " \u65b9\u578b8\u7c92\n",
        "00001"
       ]
      },
      {
       "output_type": "stream",
       "stream": "stdout",
       "text": [
        " 12\u5165\u86cb\u9ec3\u9165PS\u5957\n",
        "00002"
       ]
      },
      {
       "output_type": "stream",
       "stream": "stdout",
       "text": [
        " 15\u5165\u86cb\u9ec3\u9165PS\u5957\n",
        "00003"
       ]
      },
      {
       "output_type": "stream",
       "stream": "stdout",
       "text": [
        " 20\u5165\u86cb\u9ec3\u9165PS\u5957\n",
        "00004"
       ]
      },
      {
       "output_type": "stream",
       "stream": "stdout",
       "text": [
        " 6\u7c92\u86cb\u9ec3\u9165\n",
        "00005"
       ]
      },
      {
       "output_type": "stream",
       "stream": "stdout",
       "text": [
        " 8\u7c92\u86cb\u9ec3\u9165\n",
        "00006"
       ]
      },
      {
       "output_type": "stream",
       "stream": "stdout",
       "text": [
        " 12\u7c92\u9cf3\u68a8\u9165\u659c\u896f\n",
        "00007"
       ]
      },
      {
       "output_type": "stream",
       "stream": "stdout",
       "text": [
        " 15\u7c92\u9cf3\u68a8\u9165\u659c\u896f\n",
        "00008"
       ]
      },
      {
       "output_type": "stream",
       "stream": "stdout",
       "text": [
        " 12\u7c92\u7da0\u8c46\u51f8\n",
        "pac-002"
       ]
      },
      {
       "output_type": "stream",
       "stream": "stdout",
       "text": [
        " \u5f69\u8272\u9cf3\u68a8\u9165-\u6dfa\u7da0\u6b3e\n",
        "pac-101"
       ]
      },
      {
       "output_type": "stream",
       "stream": "stdout",
       "text": [
        " \u82b1\u8a9e\u7cfb\u5217-\u9cf3\u68a8\u9165\u7dbf\u888b\n",
        "pac-501"
       ]
      },
      {
       "output_type": "stream",
       "stream": "stdout",
       "text": [
        " \u53f0\u7063\u597d\u6ecb\u5473\u9cf3\u68a8\u9165\u7dbf\u888b\n",
        "LA3046"
       ]
      },
      {
       "output_type": "stream",
       "stream": "stdout",
       "text": [
        " 3K\u624b\u63d0\u888b-\u4eac\u4e4b\u5bb4\n",
        "LA3016"
       ]
      },
      {
       "output_type": "stream",
       "stream": "stdout",
       "text": [
        " 3K\u624b\u63d0\u888b-\u541b\u5bb4\n",
        "LA3017"
       ]
      },
      {
       "output_type": "stream",
       "stream": "stdout",
       "text": [
        " 3K\u624b\u63d0\u888b-\u79cb\u7269\u8a9e\n",
        "LA3018"
       ]
      },
      {
       "output_type": "stream",
       "stream": "stdout",
       "text": [
        " 3K\u624b\u63d0\u888b-\u9326\u7e61\u96c5\u6708\n",
        "LA3019"
       ]
      },
      {
       "output_type": "stream",
       "stream": "stdout",
       "text": [
        " 3K\u624b\u63d0\u888b-\u771f\u5473\u4eba\u9593\n",
        "LA3020"
       ]
      },
      {
       "output_type": "stream",
       "stream": "stdout",
       "text": [
        " 3K\u624b\u63d0\u888b-\u6842\u5f69\u548c\u5fa1\n",
        "LA3044"
       ]
      },
      {
       "output_type": "stream",
       "stream": "stdout",
       "text": [
        " 3K\u624b\u63d0\u888b-\u82b1\u9999\u4f34\n",
        "C1R1220"
       ]
      },
      {
       "output_type": "stream",
       "stream": "stdout",
       "text": [
        " \u7c89\u7d05\u9ede\u9ede\u718a\u79ae\u76d2\n",
        "A2002105"
       ]
      },
      {
       "output_type": "stream",
       "stream": "stdout",
       "text": [
        " \u96d9\u5c64-\u8776\u6200\u82b1\n",
        "A200280"
       ]
      },
      {
       "output_type": "stream",
       "stream": "stdout",
       "text": [
        " \u96d9\u5c64-\u82b1\u9999\u4f34\n",
        "A200250"
       ]
      },
      {
       "output_type": "stream",
       "stream": "stdout",
       "text": [
        " \u96d9\u5c64-\u570b\u73cd\u96c5\u97f5\n",
        "A200190"
       ]
      },
      {
       "output_type": "stream",
       "stream": "stdout",
       "text": [
        " \u96d9\u5c64-\u6b23\u82d1\n",
        "B10A100"
       ]
      },
      {
       "output_type": "stream",
       "stream": "stdout",
       "text": [
        " \u570b\u73cd\u96c5\u97f5(9\u5165)\n",
        "B13A650"
       ]
      },
      {
       "output_type": "stream",
       "stream": "stdout",
       "text": [
        " 13\u540b-\u5bcc\u8cb4\u6eff\u5712\n",
        "B10A100"
       ]
      },
      {
       "output_type": "stream",
       "stream": "stdout",
       "text": [
        " \u570b\u73cd\u96c5\u97f5\n",
        "LE00-44"
       ]
      },
      {
       "output_type": "stream",
       "stream": "stdout",
       "text": [
        " \u55ae\u7c92-\u82b1\u9999\u4f34\n",
        "LE00-19"
       ]
      },
      {
       "output_type": "stream",
       "stream": "stdout",
       "text": [
        " \u55ae\u7c92-\u771f\u5473\u4eba\u9593\n",
        "LA1217"
       ]
      },
      {
       "output_type": "stream",
       "stream": "stdout",
       "text": [
        " \u5e73\u88dd-\u79cb\u7269\u8a9e(12\u5165&15\u5165&20\u5165)\n",
        "LE045ED"
       ]
      },
      {
       "output_type": "stream",
       "stream": "stdout",
       "text": [
        " \u7cbe\u7dfb\u624b\u63d0-\u82b1\u9999\u4f34\n",
        "LA0610M"
       ]
      },
      {
       "output_type": "stream",
       "stream": "stdout",
       "text": [
        " \u624b\u63d0-\u570b\u73cd\u96c5\u97f5(6\u7c92)\n",
        "LA0819M"
       ]
      },
      {
       "output_type": "stream",
       "stream": "stdout",
       "text": [
        " \u624b\u63d0-\u771f\u5473\u4eba\u9593(8\u7c92&12\u7c92)\n",
        "LA1218"
       ]
      },
      {
       "output_type": "stream",
       "stream": "stdout",
       "text": [
        " \u5e73\u88dd-\u9326\u7e61\u96c5\u6708(12\u5165&15\u5165&20\u5165)\n",
        "LA1220"
       ]
      },
      {
       "output_type": "stream",
       "stream": "stdout",
       "text": [
        " \u5e73\u88dd-\u6842\u5f69\u548c\u5fa1(12\u5165&15\u5165&20\u5165)\n",
        "LA1244"
       ]
      },
      {
       "output_type": "stream",
       "stream": "stdout",
       "text": [
        " \u5e73\u88dd-\u82b1\u9999\u4f34(12\u5165&15\u5165&20\u5165)\n",
        "LA1219"
       ]
      },
      {
       "output_type": "stream",
       "stream": "stdout",
       "text": [
        " \u5e73\u88dd-\u771f\u5473\u4eba\u9593(12\u5165&15\u5165&20\u5165)\n",
        "LA2019-0"
       ]
      },
      {
       "output_type": "stream",
       "stream": "stdout",
       "text": [
        " \u5e73\u88dd(\u958b\u7a97)-\u771f\u5473\u4eba\u9593(20\u5165)\n",
        "B09A17-0"
       ]
      },
      {
       "output_type": "stream",
       "stream": "stdout",
       "text": [
        " \u4e00\u65a4\u5713\u76d2-\u6c38\u5055\u540c\u5fc3\n",
        "A20029S"
       ]
      },
      {
       "output_type": "stream",
       "stream": "stdout",
       "text": [
        " \u540d\u7522\u79ae\u76d2-\u82b1\u9999\u4f34\n",
        "A100230"
       ]
      },
      {
       "output_type": "stream",
       "stream": "stdout",
       "text": [
        " \u4e00\u65a4\u548c\u751f\u76d2-\u8776\u6200\u82b1\n",
        "B09A100"
       ]
      },
      {
       "output_type": "stream",
       "stream": "stdout",
       "text": [
        " \u4e00\u65a4\u5713\u76d2-\u570b\u73cd\u96c5\u97f5\n",
        "A200250"
       ]
      },
      {
       "output_type": "stream",
       "stream": "stdout",
       "text": [
        " \u570b\u73cd\u96c5\u97f5\n",
        "B06A650"
       ]
      },
      {
       "output_type": "stream",
       "stream": "stdout",
       "text": [
        " 6\u540b-\u58f9\u54c1\u548c\n",
        "B06A090"
       ]
      },
      {
       "output_type": "stream",
       "stream": "stdout",
       "text": [
        " \u5e74\u7cd5\u5fae\u6ce2\u76d2\n",
        "B08A860"
       ]
      },
      {
       "output_type": "stream",
       "stream": "stdout",
       "text": [
        " \u6cd5\u96c5\u6a02(\u55ae\u647a/\u96d9\u647a)\n",
        "B08A900"
       ]
      },
      {
       "output_type": "stream",
       "stream": "stdout",
       "text": [
        " \u9999\u69ad(\u55ae\u647a/\u96d9\u647a)\n",
        "B08A910"
       ]
      },
      {
       "output_type": "stream",
       "stream": "stdout",
       "text": [
        " \u7e7d\u7d1b\u4e16\u754c(\u55ae\u647a/\u96d9\u647a)\n",
        "B12A880"
       ]
      },
      {
       "output_type": "stream",
       "stream": "stdout",
       "text": [
        " 6\u7c92\u559c\u5713\u76d2-\u82b1\u958b\u5bcc\u8cb4\n",
        "A100320"
       ]
      },
      {
       "output_type": "stream",
       "stream": "stdout",
       "text": [
        " \u4e00\u65a4\u548c\u751f\u76d2-\u570b\u73cd\u96c5\u97f5\n",
        "A100321"
       ]
      },
      {
       "output_type": "stream",
       "stream": "stdout",
       "text": [
        " \u4e00\u65a4\u548c\u751f\u76d2-\u5973\u5152\u7d05\n",
        "C1R005B"
       ]
      },
      {
       "output_type": "stream",
       "stream": "stdout",
       "text": [
        " 3K-\u53f0\u7063\u76d2\u624b\u63d0\u888b\n",
        "C1R007A"
       ]
      },
      {
       "output_type": "stream",
       "stream": "stdout",
       "text": [
        " \u725b\u76ae-\u53f0\u7063\u76d2\u624b\u63d0\u888b\n",
        "B03A330"
       ]
      },
      {
       "output_type": "stream",
       "stream": "stdout",
       "text": [
        " 4\u540b-\u751c\u871c\u7d04\u5b9a\n",
        "B05A780"
       ]
      },
      {
       "output_type": "stream",
       "stream": "stdout",
       "text": [
        " 5\u540b-\u6cd5\u96c5\u6a02(\u5f69\u84cb)\n",
        "B06A800"
       ]
      },
      {
       "output_type": "stream",
       "stream": "stdout",
       "text": [
        " 6\u540b\u99ac\u5361\u6a02\u5712\u5713\u6876\u76d2(\u7c89\u7d05)\n",
        "A10033"
       ]
      },
      {
       "output_type": "stream",
       "stream": "stdout",
       "text": [
        " \u4e00\u65a4\u5927\u548c\u751f\u76d2-\u82b1\u9999\u4f34\n",
        "B16A660"
       ]
      },
      {
       "output_type": "stream",
       "stream": "stdout",
       "text": [
        " 16\u540b\u6a62\u5713-\u5bcc\u8cb4\u6eff\u5713 (\u84cb\u76d2\u84cb)\n",
        "B16A66-0"
       ]
      },
      {
       "output_type": "stream",
       "stream": "stdout",
       "text": [
        " 16\u540b\u6a62\u5713-\u5bcc\u8cb4\u6eff\u5713 (\u5e73\u9762\u84cb)\n",
        "LE044ED"
       ]
      },
      {
       "output_type": "stream",
       "stream": "stdout",
       "text": [
        " \u5c0d\u9905\u7cbe\u7dfb\u63d0\u76d2-\u82b1\u9999\u4f34\n",
        "A200170"
       ]
      },
      {
       "output_type": "stream",
       "stream": "stdout",
       "text": [
        " 2\u65a4\u5c0d\u9905-\u5973\u5152\u60c5\n",
        "A20023S"
       ]
      },
      {
       "output_type": "stream",
       "stream": "stdout",
       "text": [
        " 2\u65a4\u5c0d\u9905\u52a0\u5927-\u8776\u6200\u82b1\n",
        "A60017S"
       ]
      },
      {
       "output_type": "stream",
       "stream": "stdout",
       "text": [
        " 3\u65a46\u7c92-\u5973\u5152\u60c5\n",
        "A80017S"
       ]
      },
      {
       "output_type": "stream",
       "stream": "stdout",
       "text": [
        " 8\u7c92-\u5973\u5152\u60c5\n",
        "A200210"
       ]
      },
      {
       "output_type": "stream",
       "stream": "stdout",
       "text": [
        " 2\u65a4\u96d9\u5c64-\u8776\u6200\u82b1(\u4e0d\u542b\u896f)\n",
        "A200211"
       ]
      },
      {
       "output_type": "stream",
       "stream": "stdout",
       "text": [
        " 2\u65a4\u96d9\u5c64-\u8776\u6200\u82b1(\u542b\u896f)\n",
        "A20021S"
       ]
      },
      {
       "output_type": "stream",
       "stream": "stdout",
       "text": [
        " \u96d9\u5c64\u540a\u724c-\u8776\u6200\u82b1\n",
        "A1000231"
       ]
      },
      {
       "output_type": "stream",
       "stream": "stdout",
       "text": [
        " \u4e00\u65a4\u888b-\u8776\u6200\u82b1\n",
        "B05A850"
       ]
      },
      {
       "output_type": "stream",
       "stream": "stdout",
       "text": [
        " \u6cd5\u96c5\u6a02-\u5fc3\u578b\u76d2\n",
        "C1R0050"
       ]
      },
      {
       "output_type": "stream",
       "stream": "stdout",
       "text": [
        " \u53f0\u7063\u9020\u578b\u76d2\n",
        "C1R0070"
       ]
      },
      {
       "output_type": "stream",
       "stream": "stdout",
       "text": [
        " \u53f0\u7063\u9020\u578b\u76d2-\u725b\u76ae\n",
        "B05A790"
       ]
      },
      {
       "output_type": "stream",
       "stream": "stdout",
       "text": [
        " 5\u540b-\u9999\u69ad(\u5f69\u84cb)\n",
        "B05A780"
       ]
      },
      {
       "output_type": "stream",
       "stream": "stdout",
       "text": [
        " 5\u540b-\u7e7d\u7d1b\u5b63\u7bc0\n",
        "B05A720"
       ]
      },
      {
       "output_type": "stream",
       "stream": "stdout",
       "text": [
        " 5\u540b-\u6751\u91ce(\u5f69\u84cb)\n",
        "B05A120"
       ]
      },
      {
       "output_type": "stream",
       "stream": "stdout",
       "text": [
        " 5\u540b-\u751c\u871c\u7d04\u5b9a(\u624b\u63d0)\n",
        "B18A150"
       ]
      },
      {
       "output_type": "stream",
       "stream": "stdout",
       "text": [
        " \u82b1\u97fb(\u96d9\u647a)\n",
        "B12A88-5"
       ]
      },
      {
       "output_type": "stream",
       "stream": "stdout",
       "text": [
        " 5\u5c64-\u6176\u5718\u5713\n",
        "B12A630"
       ]
      },
      {
       "output_type": "stream",
       "stream": "stdout",
       "text": [
        " 5\u5c64-\u5718\u5713\n",
        "C040870"
       ]
      },
      {
       "output_type": "stream",
       "stream": "stdout",
       "text": [
        " \u4e00\u65a4-\u73cd\u994c\n",
        "C041530"
       ]
      },
      {
       "output_type": "stream",
       "stream": "stdout",
       "text": [
        " \u4e00\u65a4\u534a(\u516d\u89d2)-\u6176\u5718\u5713\n",
        "C05120"
       ]
      },
      {
       "output_type": "stream",
       "stream": "stdout",
       "text": [
        " \u4e09\u65a4-\u58f9\u54c1\u76d2\n",
        "B12A882"
       ]
      },
      {
       "output_type": "stream",
       "stream": "stdout",
       "text": [
        " 12\"\u5c0f\u62fc\u76e4(5\u62fc)-\u82b1\u958b\u5bcc\u8cb4\n",
        "B13A661"
       ]
      },
      {
       "output_type": "stream",
       "stream": "stdout",
       "text": [
        " 13\"\u5927\u62fc\u76e4(6\u62fc)-\u5bcc\u8cb4\u6eff\u5712\n",
        "C08A870"
       ]
      },
      {
       "output_type": "stream",
       "stream": "stdout",
       "text": [
        " \u4f5b\u8df3\u7246-\u73cd\u994c\n",
        "C08A850"
       ]
      },
      {
       "output_type": "stream",
       "stream": "stdout",
       "text": [
        " \u4f5b\u8df3\u7246-\u58f9\u54c1\u548c\n",
        "C10001"
       ]
      },
      {
       "output_type": "stream",
       "stream": "stdout",
       "text": [
        " \u96de\u6e6f\u76d2-\u9d3b\u904b(2000CC)\n",
        "C120870"
       ]
      },
      {
       "output_type": "stream",
       "stream": "stdout",
       "text": [
        " \u96de\u6e6f\u76d2-\u73cd\u994c(3000CC)\n",
        "B13A652"
       ]
      },
      {
       "output_type": "stream",
       "stream": "stdout",
       "text": [
        " 13\"\u6a62\u5713(\u5927\u9b5a\u76e4)-\u5bcc\u8cb4\u6eff\u5712\n",
        "B13A660"
       ]
      },
      {
       "output_type": "stream",
       "stream": "stdout",
       "text": [
        " 13\"\u5713\u578b(\u7802\u934b\u76d2)-\u5bcc\u8cb4\u6eff\u5712\n",
        "B10A650"
       ]
      },
      {
       "output_type": "stream",
       "stream": "stdout",
       "text": [
        " 6\u5c64-\u5409\u7965\n",
        "B10A630"
       ]
      },
      {
       "output_type": "stream",
       "stream": "stdout",
       "text": [
        " 6\u5c64-\u5718\u5713\n",
        "B10A850"
       ]
      },
      {
       "output_type": "stream",
       "stream": "stdout",
       "text": [
        " 6\u5c64-\u58f9\u54c1\u548c\n",
        "B12A640"
       ]
      },
      {
       "output_type": "stream",
       "stream": "stdout",
       "text": [
        " \u4e00\u6876\u4e94\u83dc-\u9d3b\u798f\u5409\u7965\n",
        "B12A670"
       ]
      },
      {
       "output_type": "stream",
       "stream": "stdout",
       "text": [
        " \u4e00\u6876\u4e94\u83dc-\u73cd\u994c\n",
        "B12A88-0"
       ]
      },
      {
       "output_type": "stream",
       "stream": "stdout",
       "text": [
        " \u4e00\u6876\u4e94\u83dc(\u516b\u89d2)-\u6176\u5718\u5713\n",
        "B12A840"
       ]
      },
      {
       "output_type": "stream",
       "stream": "stdout",
       "text": [
        " \u4e00\u6876\u516d\u83dc-\u82b1\u958b\u5bcc\u8cb4\n",
        "B10A106"
       ]
      },
      {
       "output_type": "stream",
       "stream": "stdout",
       "text": [
        " 6\u5c64-\u6176\u5718\u5713\n",
        "B10A66-0"
       ]
      },
      {
       "output_type": "stream",
       "stream": "stdout",
       "text": [
        " 6\u5c64-\u5bcc\u8cb4\u6eff\u5712\n",
        "B10A853"
       ]
      },
      {
       "output_type": "stream",
       "stream": "stdout",
       "text": [
        " \u4f5b\u8df3\u7246+3\u83dc\u5e74\u83dc-\u58f9\u54c1\u548c\n",
        "B10A2700"
       ]
      },
      {
       "output_type": "stream",
       "stream": "stdout",
       "text": [
        " 6\u5c64-\u82b1\u958b\u5bcc\u8cb4\n",
        "B12A63B"
       ]
      },
      {
       "output_type": "stream",
       "stream": "stdout",
       "text": [
        " 6\u5c64-\u82b1\u958b\u5bcc\u8cb4(\u9577\u5713)\n",
        "B10A856"
       ]
      },
      {
       "output_type": "stream",
       "stream": "stdout",
       "text": [
        " 10\u540b\u624b\u63d0\u76d2-\u58f9\u54c1\u548c\n",
        "B10A101"
       ]
      },
      {
       "output_type": "stream",
       "stream": "stdout",
       "text": [
        " \u55ae\u5c64-\u570b\u73cd\u96c5\u97f5(\u7121\u91d1\u6263)\n",
        "B10A102"
       ]
      },
      {
       "output_type": "stream",
       "stream": "stdout",
       "text": [
        " \u96d9\u5c64-\u570b\u73cd\u96c5\u97f5\n",
        "B12A62N"
       ]
      },
      {
       "output_type": "stream",
       "stream": "stdout",
       "text": [
        " 12\u540b\u56db\u83dc+\u96de\u6e6f-\u516d\u89d2\u786c\u76d2\n",
        "A20029S"
       ]
      },
      {
       "output_type": "stream",
       "stream": "stdout",
       "text": [
        " \u4e00\u5165\u76d2-\u82b1\u9999\u4f34\n",
        "B16A67D"
       ]
      },
      {
       "output_type": "stream",
       "stream": "stdout",
       "text": [
        " 16\u540b\u6a62\u5713(\u516b\u89d2)-\u6176\u5718\u5713\n",
        "00012"
       ]
      },
      {
       "output_type": "stream",
       "stream": "stdout",
       "text": [
        " 10\u7c92\u9cf3\u68a8\u9165(2*5)\n",
        "00013"
       ]
      },
      {
       "output_type": "stream",
       "stream": "stdout",
       "text": [
        " 2\u59274\u5c0f\n",
        "00014"
       ]
      },
      {
       "output_type": "stream",
       "stream": "stdout",
       "text": [
        " 10\u5165\u86cb\u9ec3\u9165\n",
        "P013"
       ]
      },
      {
       "output_type": "stream",
       "stream": "stdout",
       "text": [
        " \u5713\u578b\u9cf3\u68a8\u916512+1\u7c92\n",
        "P014"
       ]
      },
      {
       "output_type": "stream",
       "stream": "stdout",
       "text": [
        " \u5713\u578b8+1\u7c92\n",
        "00019"
       ]
      },
      {
       "output_type": "stream",
       "stream": "stdout",
       "text": [
        " \u6b63\u59279\u7c92\n",
        "00011"
       ]
      },
      {
       "output_type": "stream",
       "stream": "stdout",
       "text": [
        " \u65b9\u578b9\u7c92\n",
        "00020"
       ]
      },
      {
       "output_type": "stream",
       "stream": "stdout",
       "text": [
        " \u6b63\u592712\u7c92\n",
        "00021"
       ]
      },
      {
       "output_type": "stream",
       "stream": "stdout",
       "text": [
        " \u6b63\u592716\u7c92\n",
        "00022"
       ]
      },
      {
       "output_type": "stream",
       "stream": "stdout",
       "text": [
        " \u6b63\u59272\u59278\u5c0f\n",
        "P009"
       ]
      },
      {
       "output_type": "stream",
       "stream": "stdout",
       "text": [
        " 12\u5165\u86cb\u9ec3\u9165\u5168\u5957\n",
        "P002"
       ]
      },
      {
       "output_type": "stream",
       "stream": "stdout",
       "text": [
        " \u66f8\u578b\u5167\u5957-15\u7c92\n",
        "P003"
       ]
      },
      {
       "output_type": "stream",
       "stream": "stdout",
       "text": [
        " \u66f8\u578b-4\u59276\u5c0f\u5ee3\u5f0f\u6708\u9905\n",
        "P004"
       ]
      },
      {
       "output_type": "stream",
       "stream": "stdout",
       "text": [
        " \u66f8\u578b-\u5927\u5ee36\u5165\u91d1\u5851\u81a0\u5957\n",
        "172"
       ]
      },
      {
       "output_type": "stream",
       "stream": "stdout",
       "text": [
        "\n"
       ]
      }
     ],
     "prompt_number": 125
    },
    {
     "cell_type": "code",
     "collapsed": false,
     "input": [
      "url = 'http://www.firstpackage.com.tw/product_detail.php?s3menuid=599'\n",
      "soup = BeautifulSoup(requests.get(url).text)\n",
      "soup.select('tr td[colspan=2]')[6].text"
     ],
     "language": "python",
     "metadata": {},
     "outputs": [
      {
       "metadata": {},
       "output_type": "pyout",
       "prompt_number": 121,
       "text": [
        "'B12A630'"
       ]
      }
     ],
     "prompt_number": 121
    },
    {
     "cell_type": "code",
     "collapsed": false,
     "input": [
      "import time\n",
      "for i in range(1000):\n",
      "    print(i)\n",
      "    time.sleep(1)\n",
      "    "
     ],
     "language": "python",
     "metadata": {},
     "outputs": [
      {
       "output_type": "stream",
       "stream": "stdout",
       "text": [
        "0\n",
        "1"
       ]
      },
      {
       "output_type": "stream",
       "stream": "stdout",
       "text": [
        "\n",
        "2"
       ]
      },
      {
       "output_type": "stream",
       "stream": "stdout",
       "text": [
        "\n",
        "3"
       ]
      },
      {
       "output_type": "stream",
       "stream": "stdout",
       "text": [
        "\n",
        "4"
       ]
      },
      {
       "output_type": "stream",
       "stream": "stdout",
       "text": [
        "\n",
        "5"
       ]
      },
      {
       "output_type": "stream",
       "stream": "stdout",
       "text": [
        "\n",
        "6"
       ]
      },
      {
       "output_type": "stream",
       "stream": "stdout",
       "text": [
        "\n",
        "7"
       ]
      },
      {
       "output_type": "stream",
       "stream": "stdout",
       "text": [
        "\n",
        "8"
       ]
      },
      {
       "output_type": "stream",
       "stream": "stdout",
       "text": [
        "\n",
        "9"
       ]
      },
      {
       "output_type": "stream",
       "stream": "stdout",
       "text": [
        "\n",
        "10"
       ]
      },
      {
       "output_type": "stream",
       "stream": "stdout",
       "text": [
        "\n",
        "11"
       ]
      },
      {
       "output_type": "stream",
       "stream": "stdout",
       "text": [
        "\n",
        "12"
       ]
      },
      {
       "output_type": "stream",
       "stream": "stdout",
       "text": [
        "\n",
        "13"
       ]
      },
      {
       "output_type": "stream",
       "stream": "stdout",
       "text": [
        "\n",
        "14"
       ]
      },
      {
       "output_type": "stream",
       "stream": "stdout",
       "text": [
        "\n",
        "15"
       ]
      },
      {
       "output_type": "stream",
       "stream": "stdout",
       "text": [
        "\n",
        "16"
       ]
      },
      {
       "output_type": "stream",
       "stream": "stdout",
       "text": [
        "\n",
        "17"
       ]
      },
      {
       "output_type": "stream",
       "stream": "stdout",
       "text": [
        "\n",
        "18"
       ]
      },
      {
       "output_type": "stream",
       "stream": "stdout",
       "text": [
        "\n",
        "19"
       ]
      },
      {
       "output_type": "stream",
       "stream": "stdout",
       "text": [
        "\n",
        "20"
       ]
      },
      {
       "output_type": "stream",
       "stream": "stdout",
       "text": [
        "\n",
        "21"
       ]
      },
      {
       "output_type": "stream",
       "stream": "stdout",
       "text": [
        "\n",
        "22"
       ]
      },
      {
       "output_type": "stream",
       "stream": "stdout",
       "text": [
        "\n",
        "23"
       ]
      },
      {
       "output_type": "stream",
       "stream": "stdout",
       "text": [
        "\n",
        "24"
       ]
      },
      {
       "output_type": "stream",
       "stream": "stdout",
       "text": [
        "\n",
        "25"
       ]
      },
      {
       "output_type": "stream",
       "stream": "stdout",
       "text": [
        "\n",
        "26"
       ]
      },
      {
       "output_type": "stream",
       "stream": "stdout",
       "text": [
        "\n",
        "27"
       ]
      },
      {
       "output_type": "stream",
       "stream": "stdout",
       "text": [
        "\n",
        "28"
       ]
      },
      {
       "output_type": "stream",
       "stream": "stdout",
       "text": [
        "\n",
        "29"
       ]
      },
      {
       "output_type": "stream",
       "stream": "stdout",
       "text": [
        "\n",
        "30"
       ]
      },
      {
       "output_type": "stream",
       "stream": "stdout",
       "text": [
        "\n",
        "31"
       ]
      },
      {
       "output_type": "stream",
       "stream": "stdout",
       "text": [
        "\n",
        "32"
       ]
      },
      {
       "output_type": "stream",
       "stream": "stdout",
       "text": [
        "\n",
        "33"
       ]
      },
      {
       "output_type": "stream",
       "stream": "stdout",
       "text": [
        "\n",
        "34"
       ]
      },
      {
       "output_type": "stream",
       "stream": "stdout",
       "text": [
        "\n",
        "35"
       ]
      },
      {
       "output_type": "stream",
       "stream": "stdout",
       "text": [
        "\n",
        "36"
       ]
      },
      {
       "output_type": "stream",
       "stream": "stdout",
       "text": [
        "\n",
        "37"
       ]
      },
      {
       "output_type": "stream",
       "stream": "stdout",
       "text": [
        "\n",
        "38"
       ]
      },
      {
       "output_type": "stream",
       "stream": "stdout",
       "text": [
        "\n",
        "39"
       ]
      },
      {
       "output_type": "stream",
       "stream": "stdout",
       "text": [
        "\n",
        "40"
       ]
      },
      {
       "output_type": "stream",
       "stream": "stdout",
       "text": [
        "\n",
        "41"
       ]
      },
      {
       "output_type": "stream",
       "stream": "stdout",
       "text": [
        "\n",
        "42"
       ]
      },
      {
       "output_type": "stream",
       "stream": "stdout",
       "text": [
        "\n",
        "43"
       ]
      },
      {
       "output_type": "stream",
       "stream": "stdout",
       "text": [
        "\n",
        "44"
       ]
      },
      {
       "output_type": "stream",
       "stream": "stdout",
       "text": [
        "\n",
        "45"
       ]
      },
      {
       "output_type": "stream",
       "stream": "stdout",
       "text": [
        "\n",
        "46"
       ]
      },
      {
       "output_type": "stream",
       "stream": "stdout",
       "text": [
        "\n",
        "47"
       ]
      },
      {
       "output_type": "stream",
       "stream": "stdout",
       "text": [
        "\n",
        "48"
       ]
      },
      {
       "output_type": "stream",
       "stream": "stdout",
       "text": [
        "\n",
        "49"
       ]
      },
      {
       "output_type": "stream",
       "stream": "stdout",
       "text": [
        "\n",
        "50"
       ]
      },
      {
       "output_type": "stream",
       "stream": "stdout",
       "text": [
        "\n",
        "51"
       ]
      },
      {
       "output_type": "stream",
       "stream": "stdout",
       "text": [
        "\n",
        "52"
       ]
      },
      {
       "output_type": "stream",
       "stream": "stdout",
       "text": [
        "\n",
        "53"
       ]
      },
      {
       "output_type": "stream",
       "stream": "stdout",
       "text": [
        "\n",
        "54"
       ]
      },
      {
       "output_type": "stream",
       "stream": "stdout",
       "text": [
        "\n",
        "55"
       ]
      },
      {
       "output_type": "stream",
       "stream": "stdout",
       "text": [
        "\n",
        "56"
       ]
      },
      {
       "output_type": "stream",
       "stream": "stdout",
       "text": [
        "\n",
        "57"
       ]
      },
      {
       "output_type": "stream",
       "stream": "stdout",
       "text": [
        "\n",
        "58"
       ]
      },
      {
       "output_type": "stream",
       "stream": "stdout",
       "text": [
        "\n",
        "59"
       ]
      },
      {
       "output_type": "stream",
       "stream": "stdout",
       "text": [
        "\n",
        "60"
       ]
      }
     ]
    },
    {
     "cell_type": "code",
     "collapsed": false,
     "input": [
      "i = time.sleep(1)\n",
      "type(i)"
     ],
     "language": "python",
     "metadata": {},
     "outputs": []
    },
    {
     "cell_type": "code",
     "collapsed": false,
     "input": [],
     "language": "python",
     "metadata": {},
     "outputs": []
    }
   ],
   "metadata": {}
  }
 ]
}